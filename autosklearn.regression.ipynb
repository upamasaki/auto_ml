{
 "cells": [
  {
   "cell_type": "code",
   "execution_count": null,
   "metadata": {},
   "outputs": [],
   "source": [
    "# -*- encoding: utf-8 -*-\n",
    "\"\"\"\n",
    "==========\n",
    "Regression\n",
    "==========\n",
    "\n",
    "The following example shows how to fit a simple regression model with\n",
    "*auto-sklearn*.\n",
    "\"\"\"\n",
    "import sklearn.datasets\n",
    "import sklearn.metrics\n",
    "\n",
    "import autosklearn.regression\n",
    "\n",
    "\n",
    "############################################################################\n",
    "# Data Loading\n",
    "# ============\n",
    "\n",
    "X, y = sklearn.datasets.load_boston(return_X_y=True)\n",
    "\n",
    "X_train, X_test, y_train, y_test = \\\n",
    "    sklearn.model_selection.train_test_split(X, y, random_state=1)\n",
    "\n",
    "############################################################################\n",
    "# Build and fit a regressor\n",
    "# =========================\n",
    "\n",
    "automl = autosklearn.regression.AutoSklearnRegressor(\n",
    "    # time_left_for_this_task=30,\n",
    "    per_run_time_limit=30,\n",
    "    # tmp_folder='./tmp/tmp',\n",
    "    # output_folder='./out/out',\n",
    "    n_jobs=-1,\n",
    "    #delete_output_folder_after_terminate=False\n",
    ")\n",
    "automl.fit(X_train, y_train, dataset_name='boston')\n",
    "\n",
    "automl.fit_ensemble(y_train, ensemble_size=50)\n",
    "\n",
    "############################################################################\n",
    "# Print the final ensemble constructed by auto-sklearn\n",
    "# ====================================================\n",
    "\n",
    "print(automl.show_models())\n",
    "\n",
    "###########################################################################\n",
    "# Get the Score of the final ensemble\n",
    "# ===================================\n",
    "\n",
    "predictions = automl.predict(X_test)\n",
    "print(\"R2 score:\", sklearn.metrics.r2_score(y_test, predictions))"
   ]
  },
  {
   "cell_type": "code",
   "execution_count": 3,
   "metadata": {},
   "outputs": [
    {
     "name": "stdout",
     "output_type": "stream",
     "text": [
      "auto-sklearn results:\n",
      "  Dataset name: boston\n",
      "  Metric: r2\n",
      "  Best validation score: 0.874057\n",
      "  Number of target algorithm runs: 6\n",
      "  Number of successful target algorithm runs: 3\n",
      "  Number of crashed target algorithm runs: 0\n",
      "  Number of target algorithms that exceeded the time limit: 3\n",
      "  Number of target algorithms that exceeded the memory limit: 0\n",
      "\n"
     ]
    }
   ],
   "source": [
    "print(automl.sprint_statistics())"
   ]
  },
  {
   "cell_type": "code",
   "execution_count": null,
   "metadata": {},
   "outputs": [],
   "source": [
    "import pandas as pd\n",
    "import numpy as np\n",
    "\n",
    "df_simple = pd.DataFrame(np.arange(12).reshape(3, 4))"
   ]
  },
  {
   "cell_type": "code",
   "execution_count": 3,
   "metadata": {},
   "outputs": [
    {
     "data": {
      "text/plain": [
       "(127,)"
      ]
     },
     "execution_count": 3,
     "metadata": {},
     "output_type": "execute_result"
    }
   ],
   "source": [
    "predictions.shape"
   ]
  },
  {
   "cell_type": "code",
   "execution_count": 6,
   "metadata": {},
   "outputs": [
    {
     "name": "stderr",
     "output_type": "stream",
     "text": [
      "/usr/local/lib/python3.6/dist-packages/sklearn/base.py:197: FutureWarning: From version 0.24, get_params will raise an AttributeError if a parameter cannot be retrieved as an instance attribute. Previously it would return None.\n",
      "  FutureWarning)\n"
     ]
    },
    {
     "data": {
      "text/plain": [
       "AutoSklearnRegressor(dask_client=None,\n",
       "                     delete_output_folder_after_terminate=True,\n",
       "                     delete_tmp_folder_after_terminate=True,\n",
       "                     disable_evaluator_output=False, ensemble_nbest=50,\n",
       "                     ensemble_size=50, exclude_estimators=None,\n",
       "                     exclude_preprocessors=None, get_smac_object_callback=None,\n",
       "                     include_estimators=None, include_preprocessors=None,\n",
       "                     initial_configurations_via_metalearning=25,\n",
       "                     load_models=None, logging_config=None,\n",
       "                     max_models_on_disc=50, memory_limit=3072,\n",
       "                     metadata_directory=None, metric=None, n_jobs=-1,\n",
       "                     output_folder=None, per_run_time_limit=6,\n",
       "                     resampling_strategy='holdout',\n",
       "                     resampling_strategy_arguments=None, seed=1,\n",
       "                     smac_scenario_args=None, time_left_for_this_task=30,\n",
       "                     tmp_folder=None)"
      ]
     },
     "execution_count": 6,
     "metadata": {},
     "output_type": "execute_result"
    }
   ],
   "source": [
    "automl"
   ]
  },
  {
   "cell_type": "code",
   "execution_count": null,
   "metadata": {},
   "outputs": [],
   "source": []
  }
 ],
 "metadata": {
  "kernelspec": {
   "display_name": "Python 3",
   "language": "python",
   "name": "python3"
  },
  "language_info": {
   "codemirror_mode": {
    "name": "ipython",
    "version": 3
   },
   "file_extension": ".py",
   "mimetype": "text/x-python",
   "name": "python",
   "nbconvert_exporter": "python",
   "pygments_lexer": "ipython3",
   "version": "3.6.9"
  }
 },
 "nbformat": 4,
 "nbformat_minor": 4
}
